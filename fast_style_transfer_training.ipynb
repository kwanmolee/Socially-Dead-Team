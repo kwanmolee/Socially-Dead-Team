{
 "cells": [
  {
   "cell_type": "code",
   "execution_count": 1,
   "metadata": {},
   "outputs": [],
   "source": [
    "import sys\n",
    "sys.path.append(\"./FastStyleTransfer\")\n",
    "import fast_style_transfer as fst"
   ]
  },
  {
   "cell_type": "markdown",
   "metadata": {},
   "source": [
    "## This notebook is used for training style models for fast style transform implementation\n",
    "By default, the COCO-2015 dataset is used, if needed, please provide the path to the new dataset with parameter name \"dataset\" when called train function. The default directory for storing and loading the checkpoint is `\"./FastStyleTransfer/checkpoints\"` and the default directory for saving trained models is `\"./FastStyleTransfer/checkpoints\"`."
   ]
  },
  {
   "cell_type": "code",
   "execution_count": 2,
   "metadata": {},
   "outputs": [],
   "source": [
    "style_img_path = \"./FastStyleTransfer/style_images/monet.jpg\""
   ]
  },
  {
   "cell_type": "markdown",
   "metadata": {},
   "source": [
    "80,000 out of 204,721 images from the dataset are used as training set and it would be iterated for 2 epoches with batch size of 4 by default. Every 2,000 images processed, a status information would be given with currrent epoch num, nmumber of samples from the training set having been processed so far, content loss, style loss and total loss. Checkpoint would be saved at the end of each epoch."
   ]
  },
  {
   "cell_type": "code",
   "execution_count": 3,
   "metadata": {},
   "outputs": [
    {
     "name": "stdout",
     "output_type": "stream",
     "text": [
      "Mon Jun  3 21:59:40 2019\tEpoch 1:\t[2000/204721]\tcontent: 598622.104375\tstyle: 628007.043203\ttotal: 1226629.147578\n",
      "Mon Jun  3 22:01:08 2019\tEpoch 1:\t[4000/204721]\tcontent: 527631.625813\tstyle: 363521.030617\ttotal: 891152.656430\n",
      "Mon Jun  3 22:02:38 2019\tEpoch 1:\t[6000/204721]\tcontent: 484867.435042\tstyle: 272772.167786\ttotal: 757639.602828\n",
      "Mon Jun  3 22:04:10 2019\tEpoch 1:\t[8000/204721]\tcontent: 454565.062008\tstyle: 226838.992758\ttotal: 681404.054766\n",
      "Mon Jun  3 22:05:47 2019\tEpoch 2:\t[2000/204721]\tcontent: 340871.578000\tstyle: 88118.303555\ttotal: 428989.881555\n",
      "Mon Jun  3 22:07:25 2019\tEpoch 2:\t[4000/204721]\tcontent: 330535.012734\tstyle: 88039.522363\ttotal: 418574.535098\n",
      "Mon Jun  3 22:09:09 2019\tEpoch 2:\t[6000/204721]\tcontent: 322805.778260\tstyle: 88243.003805\ttotal: 411048.782065\n",
      "Mon Jun  3 22:10:46 2019\tEpoch 2:\t[8000/204721]\tcontent: 317417.913328\tstyle: 88092.180811\ttotal: 405510.094139\n",
      "\n",
      "Done, trained model saved at /datasets/home/home-00/05/905/j2ni/285_project/FastStyleTransfer/saved_models/monet.pth\n"
     ]
    }
   ],
   "source": [
    "fst.train(style_img_path)"
   ]
  }
 ],
 "metadata": {
  "kernelspec": {
   "display_name": "Python 3",
   "language": "python",
   "name": "python3"
  },
  "language_info": {
   "codemirror_mode": {
    "name": "ipython",
    "version": 3
   },
   "file_extension": ".py",
   "mimetype": "text/x-python",
   "name": "python",
   "nbconvert_exporter": "python",
   "pygments_lexer": "ipython3",
   "version": "3.6.6"
  }
 },
 "nbformat": 4,
 "nbformat_minor": 2
}
